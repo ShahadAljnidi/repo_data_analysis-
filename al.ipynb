{
 "cells": [
  {
   "cell_type": "code",
   "execution_count": 5,
   "id": "19f64a32",
   "metadata": {},
   "outputs": [
    {
     "name": "stdout",
     "output_type": "stream",
     "text": [
      "Rate limit hit. Waiting 60 seconds...\n",
      "Rate limit hit. Waiting 60 seconds...\n",
      "Rate limit hit. Waiting 60 seconds...\n",
      "Rate limit hit. Waiting 60 seconds...\n",
      "Rate limit hit. Waiting 60 seconds...\n",
      "Rate limit hit. Waiting 60 seconds...\n",
      "Rate limit hit. Waiting 60 seconds...\n",
      "Rate limit hit. Waiting 60 seconds...\n",
      "Rate limit hit. Waiting 60 seconds...\n",
      "{'data': [{'id': '1971272313883824246', 'text': 'Ich sehe die #Nike Aktie erstmal auf 62,97 USD fallen.\\n\\nMittelfristig wird sie auf 107,72 USD steigen was einen Gewinn entsprechen würde von Mindestens von 70%.\\n\\n#Aktien #stock #StockMarket #nike #Elliottwave #value #investing #investor #chart #trading #TradingView https://t.co/1G2UXTnqe5', 'edit_history_tweet_ids': ['1971272313883824246']}, {'id': '1971272311002243107', 'text': '🚨 Trending 🚨\\n\\n📈 FDV 5MIN 💹 +$27M(+13.7K%) \\n💰 - $Nike\\n🚀 - GmKtvstomTcout4aN7UEfpRsVCuCRAGgmyHqwHo1BV3o\\n🌠 𝐌𝐜𝐚𝐩 - 27.2M\\n🎯 TOP CALL 👉👉 https://t.co/tddjHK0hx1 ⬅️\\n🔃- Get personalized trading insights -🔃 https://t.co/6qL0wgSGza', 'edit_history_tweet_ids': ['1971272311002243107']}, {'id': '1971272308716404756', 'text': 'RT @tylerthecreator: also did the voice over for this for those who missed it', 'edit_history_tweet_ids': ['1971272308716404756']}, {'id': '1971272306719883418', 'text': '@n8frost @Nike @nikestore @Jumpman23 @snkr_twitr @mrskrisfrost Awww \\U0001f979❤️', 'edit_history_tweet_ids': ['1971272306719883418']}, {'id': '1971272292291469748', 'text': \"RT @SOLELINKS: Ad: Preschool Nike Kobe 8 Protro 'Mambacita' restocked at $49.98 + shipping =&gt; https://t.co/aWncB8PjEA https://t.co/uWDZthc9…\", 'edit_history_tweet_ids': ['1971272292291469748']}, {'id': '1971272278785827192', 'text': \"RT @SOLELINKS: Ad: Sizes added: Nike LeBron 22 'Crown Jewel' at $59.98 + shipping =&gt; https://t.co/NnPah2pRDm https://t.co/okgCPVI57V\", 'edit_history_tweet_ids': ['1971272278785827192']}, {'id': '1971272273664582119', 'text': 'RT @ghostofhellas: Nike. Date: ca. 190 B.C. Place of discovery/origin: Myrina (tomb 112 B), Greece https://t.co/Qx6l1EUjv7', 'edit_history_tweet_ids': ['1971272273664582119']}, {'id': '1971272264630034562', 'text': 'RT @dji_djins93: Ce que Adidas est entrain de faire de faire à Nike depuis 5ans c’est aberrant, qu’il remercie vraiment Cristiano pour les…', 'edit_history_tweet_ids': ['1971272264630034562']}, {'id': '1971272236050121137', 'text': '➡️ Bolsa Nike Brasilia Unissex\\n\\n🤑 Por: R$ 237,49 no Pix ou \\xa02x\\xa0de\\xa0R$\\xa0125,00\\xa0sem juros\\n\\n🛒 https://t.co/qglKOybUB6', 'edit_history_tweet_ids': ['1971272236050121137']}, {'id': '1971272214092841098', 'text': 'RT @MTSsource: Mariah and @KimKardashian at the Skims x Nike launch 🗽 https://t.co/OPvQUPS2g5', 'edit_history_tweet_ids': ['1971272214092841098']}], 'meta': {'newest_id': '1971272313883824246', 'oldest_id': '1971272214092841098', 'result_count': 10, 'next_token': 'b26v89c19zqg8o3fsch5eafbf03xyj2pv0j99vr1i5da5'}}\n"
     ]
    }
   ],
   "source": [
    "import requests\n",
    "import time\n",
    "\n",
    "\n",
    "BEARER_TOKEN = \"AAAAAAAAAAAAAAAAAAAAAIVQqgEAAAAAm7j7rDat1WP2xSIaM1DEajLwEdg%3DMaIY4f28tnCrMcjXeinUJ1WEis6Ingvm2WhsaCPp2eA9m7LM6L\"\n",
    "\n",
    "headers = {\"Authorization\": f\"Bearer {BEARER_TOKEN}\"}\n",
    "url = \"https://api.twitter.com/2/tweets/search/recent\"\n",
    "params = {\n",
    "    \"query\": \"Nike\",   # keyword or brand\n",
    "    \"max_results\": 10   # number of tweets\n",
    "}\n",
    "\n",
    "while True:\n",
    "    response = requests.get(url, headers=headers, params=params)\n",
    "    if response.status_code == 200:\n",
    "        data = response.json()\n",
    "        print(data)\n",
    "        break\n",
    "    elif response.status_code == 429:\n",
    "        print(\"Rate limit hit. Waiting 60 seconds...\")\n",
    "        time.sleep(60)  # wait 1 min\n",
    "    else:\n",
    "        print(\"Error:\", response.status_code, response.text)\n",
    "        break"
   ]
  },
  {
   "cell_type": "code",
   "execution_count": 6,
   "id": "a9410324",
   "metadata": {},
   "outputs": [
    {
     "name": "stdout",
     "output_type": "stream",
     "text": [
      "                    id                                               text  \\\n",
      "0  1971272313883824246  Ich sehe die #Nike Aktie erstmal auf 62,97 USD...   \n",
      "1  1971272311002243107  🚨 Trending 🚨\\n\\n📈 FDV 5MIN 💹 +$27M(+13.7K%) \\n...   \n",
      "2  1971272308716404756  RT @tylerthecreator: also did the voice over f...   \n",
      "3  1971272306719883418  @n8frost @Nike @nikestore @Jumpman23 @snkr_twi...   \n",
      "4  1971272292291469748  RT @SOLELINKS: Ad: Preschool Nike Kobe 8 Protr...   \n",
      "\n",
      "  edit_history_tweet_ids  \n",
      "0  [1971272313883824246]  \n",
      "1  [1971272311002243107]  \n",
      "2  [1971272308716404756]  \n",
      "3  [1971272306719883418]  \n",
      "4  [1971272292291469748]  \n"
     ]
    }
   ],
   "source": [
    "import pandas as pd\n",
    "\n",
    "tweets = data.get(\"data\", [])\n",
    "df = pd.DataFrame(tweets)\n",
    "print(df.head())\n"
   ]
  },
  {
   "cell_type": "code",
   "execution_count": null,
   "id": "5299670b",
   "metadata": {},
   "outputs": [],
   "source": []
  }
 ],
 "metadata": {
  "kernelspec": {
   "display_name": "Python 3",
   "language": "python",
   "name": "python3"
  },
  "language_info": {
   "codemirror_mode": {
    "name": "ipython",
    "version": 3
   },
   "file_extension": ".py",
   "mimetype": "text/x-python",
   "name": "python",
   "nbconvert_exporter": "python",
   "pygments_lexer": "ipython3",
   "version": "3.10.11"
  }
 },
 "nbformat": 4,
 "nbformat_minor": 5
}
